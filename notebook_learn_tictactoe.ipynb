{
 "cells": [
  {
   "cell_type": "markdown",
   "metadata": {},
   "source": [
    "## The Tic-Tac-Toe environment\n",
    "\n",
    "The [Tic-Tac-Toe](https://github.com/MauroLuzzatto/OpenAI-Gym-TicTacToe-Environment) is a simple game environment that allows to train reinforcement learning agents."
   ]
  },
  {
   "cell_type": "code",
   "execution_count": 51,
   "metadata": {},
   "outputs": [
    {
     "data": {
      "text/html": [
       "<img src=\"https://img.poki.com/cdn-cgi/image/quality=78,width=600,height=600,fit=cover,f=auto/85535e05d1f130b16751c8308cfbb19b.png\" width=\"300\"/>"
      ],
      "text/plain": [
       "<IPython.core.display.Image object>"
      ]
     },
     "execution_count": 51,
     "metadata": {},
     "output_type": "execute_result"
    }
   ],
   "source": [
    "from IPython.display import Image\n",
    "\n",
    "Image(\n",
    "    url=\"https://img.poki.com/cdn-cgi/image/quality=78,width=600,height=600,fit=cover,f=auto/85535e05d1f130b16751c8308cfbb19b.png\",\n",
    "    width=300,\n",
    ")"
   ]
  },
  {
   "cell_type": "code",
   "execution_count": 52,
   "metadata": {},
   "outputs": [],
   "source": [
    "# load the python modules\n",
    "import time\n",
    "import sys\n",
    "import warnings\n",
    "\n",
    "import gym\n",
    "import numpy as np\n",
    "from tqdm import tqdm\n",
    "import gym_TicTacToe\n",
    "\n",
    "from src.qagent import Qagent\n",
    "from src.player import Player\n",
    "from src.play_tictactoe import play_tictactoe\n",
    "\n",
    "from src.utils import (\n",
    "    create_state_dictionary,\n",
    "    reshape_state,\n",
    "    save_qtable,\n",
    ")\n",
    "\n",
    "# ignore warnings\n",
    "if not sys.warnoptions:\n",
    "    warnings.simplefilter(\"ignore\")"
   ]
  },
  {
   "cell_type": "code",
   "execution_count": 53,
   "metadata": {},
   "outputs": [],
   "source": [
    "# initialize the tictactoe environment\n",
    "env = gym.envs.make(\"TTT-v0\", small=-1, large=10)"
   ]
  },
  {
   "cell_type": "code",
   "execution_count": 54,
   "metadata": {},
   "outputs": [
    {
     "data": {
      "text/plain": [
       "[0, 4, 1, 1, 8, 4, 7, 1, 3, 1]"
      ]
     },
     "execution_count": 54,
     "metadata": {},
     "output_type": "execute_result"
    }
   ],
   "source": [
    "# get 10 randomly sampled actions\n",
    "[env.action_space.sample() for ii in range(10)]"
   ]
  },
  {
   "cell_type": "code",
   "execution_count": 55,
   "metadata": {},
   "outputs": [
    {
     "data": {
      "text/plain": [
       "[93, 3111, 2699, 4028, 6537, 6164, 8671, 8927, 8927, 940]"
      ]
     },
     "execution_count": 55,
     "metadata": {},
     "output_type": "execute_result"
    }
   ],
   "source": [
    "[env.observation_space.sample() for ii in range(10)]"
   ]
  },
  {
   "cell_type": "code",
   "execution_count": 56,
   "metadata": {},
   "outputs": [
    {
     "name": "stdout",
     "output_type": "stream",
     "text": [
      "╒═══╤═══╤═══╕\n",
      "│ - │ - │ - │\n",
      "├───┼───┼───┤\n",
      "│ - │ - │ - │\n",
      "├───┼───┼───┤\n",
      "│ - │ - │ - │\n",
      "╘═══╧═══╧═══╛\n"
     ]
    }
   ],
   "source": [
    "env.reset()\n",
    "print(env.render())"
   ]
  },
  {
   "cell_type": "code",
   "execution_count": 57,
   "metadata": {},
   "outputs": [
    {
     "name": "stdout",
     "output_type": "stream",
     "text": [
      "[[0 0 0]\n",
      " [0 1 0]\n",
      " [0 0 0]] -1 False\n",
      "╒═══╤═══╤═══╕\n",
      "│ - │ - │ - │\n",
      "├───┼───┼───┤\n",
      "│ - │ X │ - │\n",
      "├───┼───┼───┤\n",
      "│ - │ - │ - │\n",
      "╘═══╧═══╧═══╛\n"
     ]
    }
   ],
   "source": [
    "color = 1\n",
    "action = 4\n",
    "\n",
    "new_state, reward, done, _ = env.step((action, color))\n",
    "print(new_state, reward, done)\n",
    "print(env.render())"
   ]
  },
  {
   "cell_type": "code",
   "execution_count": 58,
   "metadata": {},
   "outputs": [
    {
     "name": "stdout",
     "output_type": "stream",
     "text": [
      "Number of legal states: 8953\n"
     ]
    }
   ],
   "source": [
    "state_dict = create_state_dictionary()\n",
    "state_size = env.observation_space.n\n",
    "action_size = env.action_space.n"
   ]
  },
  {
   "cell_type": "code",
   "execution_count": 59,
   "metadata": {},
   "outputs": [],
   "source": [
    "# set training parameters\n",
    "episodes = 60_000  # 10**6 * 2\n",
    "max_steps = 9\n",
    "\n",
    "# name of the qtable when saved\n",
    "load = False\n",
    "save = True\n",
    "test = True\n",
    "\n",
    "num_test_games = 1"
   ]
  },
  {
   "cell_type": "code",
   "execution_count": 60,
   "metadata": {},
   "outputs": [],
   "source": [
    "learning_parameters = {\"learning_rate\": 1.0, \"gamma\": 0.9}\n",
    "exploration_parameters = {\n",
    "    \"max_epsilon\": 1.0,\n",
    "    \"min_epsilon\": 0.0,\n",
    "    \"decay_rate\": 0.00001,\n",
    "}\n",
    "\n",
    "name = f\"qtable_{episodes}\"\n",
    "folder = \"tables\""
   ]
  },
  {
   "cell_type": "code",
   "execution_count": 61,
   "metadata": {},
   "outputs": [],
   "source": [
    "qagent = Qagent(state_size, action_size, learning_parameters, exploration_parameters)"
   ]
  },
  {
   "cell_type": "markdown",
   "metadata": {},
   "source": []
  },
  {
   "cell_type": "code",
   "execution_count": 62,
   "metadata": {},
   "outputs": [],
   "source": [
    "\n",
    "def play(qagent:Qagent, player: Player, state: int, action_space: np.array) -> tuple:\n",
    "    \"\"\"this function contains the one round of game play for one player\n",
    "\n",
    "    Args:\n",
    "        qagent (Qagent): qagent to play to game\n",
    "        player (Player): player class that has its turn\n",
    "        state (int): number of the current state\n",
    "        action_space (np.arry): array with all available actions\n",
    "\n",
    "    Returns:\n",
    "        tuple: state, action_space, done\n",
    "    \"\"\"\n",
    "    action = qagent.get_action(state, action_space)\n",
    "\n",
    "    # remove action from the action space\n",
    "    action_space = action_space[action_space != action]\n",
    "\n",
    "    new_state, reward, done, _ = env.step((action, player.color))\n",
    "    new_state = state_dict[reshape_state(new_state)]\n",
    "\n",
    "    qagent.qtable[state, action] = qagent.update_qtable(\n",
    "        state, new_state, action, reward, done\n",
    "    )\n",
    "    # new state\n",
    "    state = new_state\n",
    "    player.add_reward(reward)\n",
    "    return state, action_space, done"
   ]
  },
  {
   "cell_type": "code",
   "execution_count": 63,
   "metadata": {},
   "outputs": [
    {
     "name": "stderr",
     "output_type": "stream",
     "text": [
      "  0%|          | 33/60000 [00:00<03:19, 299.99it/s]"
     ]
    },
    {
     "name": "stdout",
     "output_type": "stream",
     "text": [
      "episode: 0,             epsilon: 1.0,             sum q-table: 1.0,             elapsed time [min]: 0.0,              done [%]: 0.0             \n"
     ]
    },
    {
     "name": "stderr",
     "output_type": "stream",
     "text": [
      " 17%|█▋        | 10029/60000 [00:26<02:28, 336.07it/s]"
     ]
    },
    {
     "name": "stdout",
     "output_type": "stream",
     "text": [
      "episode: 10000,             epsilon: 0.9,             sum q-table: 97043.65127000002,             elapsed time [min]: 0.45,              done [%]: 16.666666666666664             \n"
     ]
    },
    {
     "name": "stderr",
     "output_type": "stream",
     "text": [
      " 33%|███▎      | 20068/60000 [00:56<01:34, 423.33it/s]"
     ]
    },
    {
     "name": "stdout",
     "output_type": "stream",
     "text": [
      "episode: 20000,             epsilon: 0.82,             sum q-table: 137448.83492,             elapsed time [min]: 0.94,              done [%]: 33.33333333333333             \n"
     ]
    },
    {
     "name": "stderr",
     "output_type": "stream",
     "text": [
      " 50%|█████     | 30056/60000 [01:21<01:23, 356.95it/s]"
     ]
    },
    {
     "name": "stdout",
     "output_type": "stream",
     "text": [
      "episode: 30000,             epsilon: 0.74,             sum q-table: 147525.58380000002,             elapsed time [min]: 1.35,              done [%]: 50.0             \n"
     ]
    },
    {
     "name": "stderr",
     "output_type": "stream",
     "text": [
      " 67%|██████▋   | 40094/60000 [01:47<00:46, 425.37it/s]"
     ]
    },
    {
     "name": "stdout",
     "output_type": "stream",
     "text": [
      "episode: 40000,             epsilon: 0.67,             sum q-table: 150693.2545,             elapsed time [min]: 1.79,              done [%]: 66.66666666666666             \n"
     ]
    },
    {
     "name": "stderr",
     "output_type": "stream",
     "text": [
      " 83%|████████▎ | 50055/60000 [02:20<00:26, 377.00it/s]"
     ]
    },
    {
     "name": "stdout",
     "output_type": "stream",
     "text": [
      "episode: 50000,             epsilon: 0.61,             sum q-table: 152373.162,             elapsed time [min]: 2.34,              done [%]: 83.33333333333334             \n"
     ]
    },
    {
     "name": "stderr",
     "output_type": "stream",
     "text": [
      "100%|██████████| 60000/60000 [02:46<00:00, 359.98it/s]\n"
     ]
    }
   ],
   "source": [
    "\n",
    "start_time = time.time()\n",
    "\n",
    "player_1 = Player(color=1, episodes=episodes)\n",
    "player_2 = Player(color=2, episodes=episodes)\n",
    "\n",
    "track_progress = np.zeros(episodes)\n",
    "\n",
    "for episode in tqdm(range(episodes)):\n",
    "    state = env.reset()\n",
    "    state = state_dict[reshape_state(state)]\n",
    "\n",
    "    action_space = np.arange(9)\n",
    "\n",
    "    player_1.reset_reward()\n",
    "    player_2.reset_reward()\n",
    "\n",
    "    # randomly change the order players\n",
    "    # to start the game, integer either 0 or 1\n",
    "    start = np.random.randint(2)\n",
    "\n",
    "    for _step in range(start, max_steps + start):\n",
    "\n",
    "        # alternate the moves of the players\n",
    "        if _step % 2 == 0:\n",
    "            state, action_space, done = play(qagent, player_1, state, action_space)\n",
    "        else:\n",
    "            state, action_space, done = play(qagent, player_2, state, action_space)\n",
    "\n",
    "        if done == True:\n",
    "            break\n",
    "\n",
    "    # reduce epsilon for exporation-exploitation tradeoff\n",
    "    qagent.update_epsilon(episode)\n",
    "    player_1.save_reward(episode)\n",
    "    player_2.save_reward(episode)\n",
    "    \n",
    "    track_progress[episode] = np.sum(qagent.qtable)\n",
    "\n",
    "\n",
    "    if episode % 1_0000 == 0:\n",
    "\n",
    "        sum_q_table = np.sum(qagent.qtable)\n",
    "        time_passed = round((time.time() - start_time) / 60.0, 2)\n",
    "\n",
    "        print(\n",
    "            f\"episode: {episode}, \\\n",
    "            epsilon: {round(qagent.epsilon, 2)}, \\\n",
    "            sum q-table: {sum_q_table}, \\\n",
    "            elapsed time [min]: {time_passed},  \\\n",
    "            done [%]: {episode / episodes * 100} \\\n",
    "            \"\n",
    "        )\n"
   ]
  },
  {
   "cell_type": "code",
   "execution_count": 64,
   "metadata": {},
   "outputs": [
    {
     "data": {
      "image/png": "[encoded data removed]",
      "text/plain": [
       "<Figure size 432x288 with 1 Axes>"
      ]
     },
     "metadata": {
      "needs_background": "light"
     },
     "output_type": "display_data"
    }
   ],
   "source": [
    "import matplotlib.pyplot as plt\n",
    "plt.title(\"Sum of q-values over time\")\n",
    "plt.plot(range(episodes), track_progress)\n",
    "plt.show()"
   ]
  },
  {
   "cell_type": "code",
   "execution_count": 65,
   "metadata": {},
   "outputs": [
    {
     "name": "stdout",
     "output_type": "stream",
     "text": [
      "qtable_60000.npy saved!\n"
     ]
    }
   ],
   "source": [
    "qtable = qagent.qtable\n",
    "save_qtable(qtable, folder, name)"
   ]
  },
  {
   "cell_type": "code",
   "execution_count": 68,
   "metadata": {},
   "outputs": [
    {
     "name": "stdout",
     "output_type": "stream",
     "text": [
      "Agent beginns\n",
      "--------------------\n",
      "--------------------\n",
      "move Agent\n",
      "Action: 0\n",
      "\n",
      "\n",
      "╒═══╤═══╤═══╕\n",
      "│ O │ - │ - │\n",
      "├───┼───┼───┤\n",
      "│ - │ - │ - │\n",
      "├───┼───┼───┤\n",
      "│ - │ - │ - │\n",
      "╘═══╧═══╧═══╛\n",
      "--------------------\n",
      "Move Human\n",
      "Action: 4\n",
      "-1\n",
      "\n",
      "\n",
      "--------------------\n",
      "move Agent\n",
      "Action: 1\n",
      "\n",
      "\n",
      "╒═══╤═══╤═══╕\n",
      "│ O │ O │ - │\n",
      "├───┼───┼───┤\n",
      "│ - │ X │ - │\n",
      "├───┼───┼───┤\n",
      "│ - │ - │ - │\n",
      "╘═══╧═══╧═══╛\n",
      "--------------------\n",
      "Move Human\n",
      "Action: 2\n",
      "-1\n",
      "\n",
      "\n",
      "--------------------\n",
      "move Agent\n",
      "Action: 6\n",
      "\n",
      "\n",
      "╒═══╤═══╤═══╕\n",
      "│ O │ O │ X │\n",
      "├───┼───┼───┤\n",
      "│ - │ X │ - │\n",
      "├───┼───┼───┤\n",
      "│ O │ - │ - │\n",
      "╘═══╧═══╧═══╛\n",
      "--------------------\n",
      "Move Human\n",
      "Action: 5\n",
      "-1\n",
      "\n",
      "\n",
      "--------------------\n",
      "move Agent\n",
      "Action: 7\n",
      "\n",
      "\n",
      "╒═══╤═══╤═══╕\n",
      "│ O │ O │ X │\n",
      "├───┼───┼───┤\n",
      "│ - │ X │ X │\n",
      "├───┼───┼───┤\n",
      "│ O │ O │ - │\n",
      "╘═══╧═══╧═══╛\n",
      "--------------------\n",
      "Move Human\n",
      "Action: 8\n",
      "9\n",
      "********************\n",
      "Human won!\n",
      "********************\n",
      "╒═══╤═══╤═══╕\n",
      "│ O │ O │ X │\n",
      "├───┼───┼───┤\n",
      "│ - │ X │ X │\n",
      "├───┼───┼───┤\n",
      "│ O │ O │ X │\n",
      "╘═══╧═══╧═══╛\n",
      "\n",
      "\n",
      "\n"
     ]
    }
   ],
   "source": [
    "# test the algorithm with playing against it\n",
    "play_tictactoe(env, qtable, state_dict, num_test_games=1)"
   ]
  },
  {
   "cell_type": "code",
   "execution_count": null,
   "metadata": {},
   "outputs": [],
   "source": []
  }
 ],
 "metadata": {
  "interpreter": {
   "hash": "6050d35557e2eda2bee3489ac5b9239cf3ea28e67ca6bb3b65a2efaf99506245"
  },
  "kernelspec": {
   "display_name": "Python 3.9.12 ('tictactoe_env')",
   "language": "python",
   "name": "python3"
  },
  "language_info": {
   "codemirror_mode": {
    "name": "ipython",
    "version": 3
   },
   "file_extension": ".py",
   "mimetype": "text/x-python",
   "name": "python",
   "nbconvert_exporter": "python",
   "pygments_lexer": "ipython3",
   "version": "3.9.12"
  }
 },
 "nbformat": 4,
 "nbformat_minor": 2
}
