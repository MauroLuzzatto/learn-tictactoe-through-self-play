{
 "cells": [
  {
   "cell_type": "code",
   "execution_count": 1,
   "metadata": {},
   "outputs": [],
   "source": [
    "import gym\n",
    "import gym_TicTacToe\n",
    "\n",
    "from src.play_tictactoe import play_tictactoe\n",
    "from src.utils import create_state_dictionary, load_qtable"
   ]
  },
  {
   "cell_type": "code",
   "execution_count": 2,
   "metadata": {},
   "outputs": [
    {
     "name": "stdout",
     "output_type": "stream",
     "text": [
      "Number of legal states: 8953\n"
     ]
    }
   ],
   "source": [
    "# initialize the tictactoe environment\n",
    "env = gym.envs.make(\"TTT-v0\", small=-1, large=10)\n",
    "state_dict = create_state_dictionary()"
   ]
  },
  {
   "cell_type": "code",
   "execution_count": 3,
   "metadata": {},
   "outputs": [],
   "source": [
    "episodes = 800_000\n",
    "name = f\"qtable_{episodes}\"\n",
    "folder = \"tables\""
   ]
  },
  {
   "cell_type": "code",
   "execution_count": 4,
   "metadata": {},
   "outputs": [
    {
     "name": "stdout",
     "output_type": "stream",
     "text": [
      "qtable_60000.npy loaded!\n"
     ]
    }
   ],
   "source": [
    "qtable = load_qtable(folder, name)"
   ]
  },
  {
   "cell_type": "markdown",
   "metadata": {},
   "source": [
    "test the algorithm with playing against it"
   ]
  },
  {
   "cell_type": "code",
   "execution_count": 8,
   "metadata": {},
   "outputs": [
    {
     "name": "stdout",
     "output_type": "stream",
     "text": [
      "Human beginns\n",
      "--------------------\n",
      "╒═══╤═══╤═══╕\n",
      "│ - │ - │ - │\n",
      "├───┼───┼───┤\n",
      "│ - │ - │ - │\n",
      "├───┼───┼───┤\n",
      "│ - │ - │ - │\n",
      "╘═══╧═══╧═══╛\n",
      "--------------------\n",
      "Move Human\n",
      "Action: 1\n",
      "-1\n",
      "--------------------\n",
      "move Agent\n",
      "Action: 0\n",
      "╒═══╤═══╤═══╕\n",
      "│ O │ X │ - │\n",
      "├───┼───┼───┤\n",
      "│ - │ - │ - │\n",
      "├───┼───┼───┤\n",
      "│ - │ - │ - │\n",
      "╘═══╧═══╧═══╛\n",
      "--------------------\n",
      "Move Human\n",
      "Action: 3\n",
      "-1\n",
      "--------------------\n",
      "move Agent\n",
      "Action: 2\n",
      "╒═══╤═══╤═══╕\n",
      "│ O │ X │ O │\n",
      "├───┼───┼───┤\n",
      "│ X │ - │ - │\n",
      "├───┼───┼───┤\n",
      "│ - │ - │ - │\n",
      "╘═══╧═══╧═══╛\n",
      "--------------------\n",
      "Move Human\n"
     ]
    },
    {
     "ename": "ValueError",
     "evalue": "invalid literal for int() with base 10: ''",
     "output_type": "error",
     "traceback": [
      "\u001b[1;31m---------------------------------------------------------------------------\u001b[0m",
      "\u001b[1;31mValueError\u001b[0m                                Traceback (most recent call last)",
      "\u001b[1;32mc:\\Users\\maurol\\OneDrive\\Dokumente\\Python_Scripts\\learn-tictactoe-through-self-play\\play_games.ipynb Cell 6'\u001b[0m in \u001b[0;36m<cell line: 1>\u001b[1;34m()\u001b[0m\n\u001b[1;32m----> <a href='vscode-notebook-cell:/c%3A/Users/maurol/OneDrive/Dokumente/Python_Scripts/learn-tictactoe-through-self-play/play_games.ipynb#ch0000005?line=0'>1</a>\u001b[0m play_tictactoe(env, qtable, state_dict)\n",
      "File \u001b[1;32mc:\\Users\\maurol\\OneDrive\\Dokumente\\Python_Scripts\\learn-tictactoe-through-self-play\\src\\play_tictactoe.py:43\u001b[0m, in \u001b[0;36mplay_tictactoe\u001b[1;34m(env, qtable, state_dict, max_steps, num_test_games)\u001b[0m\n\u001b[0;32m     <a href='file:///c%3A/Users/maurol/OneDrive/Dokumente/Python_Scripts/learn-tictactoe-through-self-play/src/play_tictactoe.py?line=39'>40</a>\u001b[0m action \u001b[39m=\u001b[39m np\u001b[39m.\u001b[39mnan\n\u001b[0;32m     <a href='file:///c%3A/Users/maurol/OneDrive/Dokumente/Python_Scripts/learn-tictactoe-through-self-play/src/play_tictactoe.py?line=41'>42</a>\u001b[0m \u001b[39mwhile\u001b[39;00m action \u001b[39mnot\u001b[39;00m \u001b[39min\u001b[39;00m action_space:\n\u001b[1;32m---> <a href='file:///c%3A/Users/maurol/OneDrive/Dokumente/Python_Scripts/learn-tictactoe-through-self-play/src/play_tictactoe.py?line=42'>43</a>\u001b[0m     action \u001b[39m=\u001b[39m \u001b[39mint\u001b[39;49m(\u001b[39minput\u001b[39;49m(\u001b[39mf\u001b[39;49m\u001b[39m\"\u001b[39;49m\u001b[39mchoose an action from \u001b[39;49m\u001b[39m{\u001b[39;49;00maction_space\u001b[39m}\u001b[39;49;00m\u001b[39m:\u001b[39;49m\u001b[39m\"\u001b[39;49m))\n\u001b[0;32m     <a href='file:///c%3A/Users/maurol/OneDrive/Dokumente/Python_Scripts/learn-tictactoe-through-self-play/src/play_tictactoe.py?line=43'>44</a>\u001b[0m     \u001b[39mprint\u001b[39m(\u001b[39m\"\u001b[39m\u001b[39mAction:\u001b[39m\u001b[39m\"\u001b[39m, action)\n\u001b[0;32m     <a href='file:///c%3A/Users/maurol/OneDrive/Dokumente/Python_Scripts/learn-tictactoe-through-self-play/src/play_tictactoe.py?line=44'>45</a>\u001b[0m action_space \u001b[39m=\u001b[39m action_space[action_space \u001b[39m!=\u001b[39m action]\n",
      "\u001b[1;31mValueError\u001b[0m: invalid literal for int() with base 10: ''"
     ]
    }
   ],
   "source": [
    "play_tictactoe(env, qtable, state_dict)"
   ]
  },
  {
   "cell_type": "code",
   "execution_count": null,
   "metadata": {},
   "outputs": [],
   "source": []
  }
 ],
 "metadata": {
  "interpreter": {
   "hash": "6050d35557e2eda2bee3489ac5b9239cf3ea28e67ca6bb3b65a2efaf99506245"
  },
  "kernelspec": {
   "display_name": "Python 3.9.12 ('tictactoe_env')",
   "language": "python",
   "name": "python3"
  },
  "language_info": {
   "codemirror_mode": {
    "name": "ipython",
    "version": 3
   },
   "file_extension": ".py",
   "mimetype": "text/x-python",
   "name": "python",
   "nbconvert_exporter": "python",
   "pygments_lexer": "ipython3",
   "version": "3.9.12"
  },
  "orig_nbformat": 4
 },
 "nbformat": 4,
 "nbformat_minor": 2
}
